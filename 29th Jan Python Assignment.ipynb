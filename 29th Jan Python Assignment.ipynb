{
 "cells": [
  {
   "cell_type": "code",
   "execution_count": null,
   "id": "ee4251e2-c249-4139-85b8-2634960352ad",
   "metadata": {},
   "outputs": [],
   "source": [
    "#29th Jan Python Assignment\n",
    "\n",
    "Q1. Who developed python programming Language?\n",
    "Ans: Guido van Rossum developed the Python programming language.\n",
    "\n",
    "Q2. Which type of Programming does python support?\n",
    "Ans: OOPS(object Oriented Programming & Structured) programming python support.\n",
    "\n",
    "Q3. Is Python case sensitive when dealing with Identifiers?\n",
    "Ans: Yes, Python is case sensitive when dealing with identifiers. I.e. upper & lower case are different.\n",
    "\n",
    "Q4. What is the correct extension of Python file?\n",
    "Ans: .py extension of python file\n",
    "\n",
    "Q5. Is Python code compiled or Interpreted?\n",
    "Ans: Python is an interpreted language, not compiled.\n",
    "\n",
    "Q6. Name a few blocks of code used to define in Python Language?\n",
    "Ans: Indentation is used to define a block of code in python.\n",
    "\n",
    "Q7. State a character used to give single line comments in Python?\n",
    "Ans: “#” for using a single line comment.\n",
    "    \n",
    "Q8. Mention function which can help us to find the version of Python that we are currently working on?\n",
    "Ans: In Window Open the command and type “python –version” then enter. Show the latest version. Current version is - 3.10.4\n",
    "\n",
    "Q9. Python supports the creation of anonymous funtions at runtime, using the contract called \n",
    "Ans: Python supports the creation of anonymous functions at runtime, using a construct called “Lambda”.\n",
    "    \n",
    "Q10. What does PIP does stamd for Python?\n",
    "Ans: PIP stands for python “preferred installer program”\n",
    "    \n",
    "Q11. Mention a few built funtions in python?\n",
    "Ans: find() , len(), upper(), lower(), type(), count(), title() and many more.\n",
    "    \n",
    "Q12. What is the maximum possible length of Identifier in python?\n",
    "Ans: An identifier can have a maximum length of 79 characters in Python.\n",
    "    \n",
    "Q13. What are the benefits using python?\n",
    "Ans: Benefits of using python is- Simple to Use and Understand, Free and Open-Source, Productivity has Increased, Portability, Dynamically Typed\n",
    "    \n",
    "Q14: How is memory managed in python?\n",
    "Ans: Memory in Python is managed by Python private heap space.\n",
    "    \n",
    "Q15. How to Install python on windows and seth path variable?\n",
    "Ans: Install python from this link https://www.python.org/downloads/ \n",
    "After this, install it on your laptop. Look for the location where PYTHON has been installed on your laptop using the following command on your command prompt: cmd python. Then go to advanced system settings and add a new variable and name it as PYTHON_NAME and paste the copied path. Then look for the path variable, select it's value and select edit Add a semicolon towards the end of the value.\n",
    "    \n",
    "Q16. Is Indentation required in python?\n",
    "Ans: Yes, the indentation in python is very important because it can used to indicate the block of code.\n"
   ]
  },
  {
   "cell_type": "code",
   "execution_count": null,
   "id": "0158a2e1-5c88-4159-ab91-bc5e9de8b661",
   "metadata": {},
   "outputs": [],
   "source": []
  }
 ],
 "metadata": {
  "kernelspec": {
   "display_name": "Python 3 (ipykernel)",
   "language": "python",
   "name": "python3"
  },
  "language_info": {
   "codemirror_mode": {
    "name": "ipython",
    "version": 3
   },
   "file_extension": ".py",
   "mimetype": "text/x-python",
   "name": "python",
   "nbconvert_exporter": "python",
   "pygments_lexer": "ipython3",
   "version": "3.10.8"
  }
 },
 "nbformat": 4,
 "nbformat_minor": 5
}
